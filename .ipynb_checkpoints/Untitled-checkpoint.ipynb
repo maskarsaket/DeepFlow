{
 "cells": [
  {
   "cell_type": "code",
   "execution_count": 6,
   "metadata": {},
   "outputs": [],
   "source": [
    "import pandas as pd\n",
    "from sklearn.preprocessing import OneHotEncoder"
   ]
  },
  {
   "cell_type": "code",
   "execution_count": 9,
   "metadata": {},
   "outputs": [],
   "source": [
    "dfrunmaster = pd.read_csv(\"data/testruns.csv\")\n",
    "\n",
    "projectname = dfrunmaster['ProjectName'].unique()[0]\n",
    "\n",
    "### TODO : Sort values based on Acc/Error col in runmaster \n",
    "topruns = dfrunmaster.sort_values(by='Score').head(5)\n",
    "toprunparams = topruns['Params'].dropna()\n",
    "topfeatures = pd.DataFrame()\n",
    "featruns = 0"
   ]
  },
  {
   "cell_type": "code",
   "execution_count": 14,
   "metadata": {},
   "outputs": [],
   "source": [
    "import ast"
   ]
  },
  {
   "cell_type": "code",
   "execution_count": 15,
   "metadata": {},
   "outputs": [
    {
     "ename": "SyntaxError",
     "evalue": "invalid syntax (<unknown>, line 4)",
     "output_type": "error",
     "traceback": [
      "Traceback \u001b[0;36m(most recent call last)\u001b[0m:\n",
      "  File \u001b[1;32m\"/home/maskarasaket/miniconda3/envs/deepflow/lib/python3.8/site-packages/IPython/core/interactiveshell.py\"\u001b[0m, line \u001b[1;32m3331\u001b[0m, in \u001b[1;35mrun_code\u001b[0m\n    exec(code_obj, self.user_global_ns, self.user_ns)\n",
      "  File \u001b[1;32m\"<ipython-input-15-755d15e2893b>\"\u001b[0m, line \u001b[1;32m1\u001b[0m, in \u001b[1;35m<module>\u001b[0m\n    ast.literal_eval(toprunparams[17])\n",
      "  File \u001b[1;32m\"/home/maskarasaket/miniconda3/envs/deepflow/lib/python3.8/ast.py\"\u001b[0m, line \u001b[1;32m59\u001b[0m, in \u001b[1;35mliteral_eval\u001b[0m\n    node_or_string = parse(node_or_string, mode='eval')\n",
      "\u001b[0;36m  File \u001b[0;32m\"/home/maskarasaket/miniconda3/envs/deepflow/lib/python3.8/ast.py\"\u001b[0;36m, line \u001b[0;32m47\u001b[0;36m, in \u001b[0;35mparse\u001b[0;36m\u001b[0m\n\u001b[0;31m    return compile(source, filename, mode, flags,\u001b[0m\n",
      "\u001b[0;36m  File \u001b[0;32m\"<unknown>\"\u001b[0;36m, line \u001b[0;32m4\u001b[0m\n\u001b[0;31m    dtype=<class 'numpy.float64'>,\u001b[0m\n\u001b[0m          ^\u001b[0m\n\u001b[0;31mSyntaxError\u001b[0m\u001b[0;31m:\u001b[0m invalid syntax\n"
     ]
    }
   ],
   "source": [
    "ast.literal_eval(toprunparams[17].replace('<',''))"
   ]
  },
  {
   "cell_type": "code",
   "execution_count": null,
   "metadata": {},
   "outputs": [],
   "source": [
    "for _, param in toprunparams.iteritems():\n",
    "    param = ast.literal_eval(param)\n",
    "    if 'FeatureImp' in param:\n",
    "        featruns += 1\n",
    "        imp = pd.read_csv(param['FeatureImp'])\n",
    "        imp.columns = [i.lower() for i in imp.columns]\n",
    "        imp = imp.groupby('feature', as_index=False).agg({'importance':'sum'})\n",
    "        imp['importance'] = imp['importance']/sum(imp['importance'])\n",
    "        topfeatures = pd.concat([topfeatures, imp], axis=0)\n",
    "\n",
    "if topfeatures.shape[0] != 0:\n",
    "    topfeatures = topfeatures.groupby('feature', as_index=False).agg({'importance':sum})\n",
    "    topfeatures['importance'] = topfeatures['importance']/sum(topfeatures['importance'])"
   ]
  }
 ],
 "metadata": {
  "kernelspec": {
   "display_name": "Python 3",
   "language": "python",
   "name": "python3"
  },
  "language_info": {
   "codemirror_mode": {
    "name": "ipython",
    "version": 3
   },
   "file_extension": ".py",
   "mimetype": "text/x-python",
   "name": "python",
   "nbconvert_exporter": "python",
   "pygments_lexer": "ipython3",
   "version": "3.8.2"
  }
 },
 "nbformat": 4,
 "nbformat_minor": 4
}
